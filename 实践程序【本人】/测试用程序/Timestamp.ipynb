{
 "cells": [
  {
   "cell_type": "code",
   "execution_count": 30,
   "metadata": {
    "collapsed": true
   },
   "outputs": [],
   "source": [
    "import pandas as pd\n",
    "import numpy as np\n",
    "import datetime"
   ]
  },
  {
   "cell_type": "code",
   "execution_count": 31,
   "metadata": {
    "collapsed": true
   },
   "outputs": [],
   "source": [
    "h1 = pd.read_csv(\"E:/kaggle-data/holidays_handle.csv\")\n",
    "h2 = pd.read_csv(\"E:/kaggle-data/holidays_handle.csv\",parse_dates=[\"date\"])"
   ]
  },
  {
   "cell_type": "code",
   "execution_count": 32,
   "metadata": {},
   "outputs": [
    {
     "data": {
      "text/plain": [
       "'2015-08-24'"
      ]
     },
     "execution_count": 32,
     "metadata": {},
     "output_type": "execute_result"
    }
   ],
   "source": [
    "h1.iloc[0,0]"
   ]
  },
  {
   "cell_type": "code",
   "execution_count": 33,
   "metadata": {},
   "outputs": [
    {
     "data": {
      "text/plain": [
       "Timestamp('2015-08-24 00:00:00')"
      ]
     },
     "execution_count": 33,
     "metadata": {},
     "output_type": "execute_result"
    }
   ],
   "source": [
    "h2.iloc[0,0]"
   ]
  },
  {
   "cell_type": "code",
   "execution_count": 34,
   "metadata": {},
   "outputs": [
    {
     "data": {
      "text/plain": [
       "0    2015-08-24\n",
       "1    2015-09-28\n",
       "2    2015-10-07\n",
       "Name: date, dtype: object"
      ]
     },
     "execution_count": 34,
     "metadata": {},
     "output_type": "execute_result"
    }
   ],
   "source": [
    "h1.iloc[0:3,0]"
   ]
  },
  {
   "cell_type": "code",
   "execution_count": 35,
   "metadata": {},
   "outputs": [
    {
     "data": {
      "text/plain": [
       "0   2015-08-24\n",
       "1   2015-09-28\n",
       "2   2015-10-07\n",
       "Name: date, dtype: datetime64[ns]"
      ]
     },
     "execution_count": 35,
     "metadata": {},
     "output_type": "execute_result"
    }
   ],
   "source": [
    "h2.iloc[0:3,0]"
   ]
  },
  {
   "cell_type": "code",
   "execution_count": 36,
   "metadata": {},
   "outputs": [
    {
     "data": {
      "text/plain": [
       "dtype('O')"
      ]
     },
     "execution_count": 36,
     "metadata": {},
     "output_type": "execute_result"
    }
   ],
   "source": [
    "h1['date'].dtypes"
   ]
  },
  {
   "cell_type": "code",
   "execution_count": 37,
   "metadata": {},
   "outputs": [
    {
     "data": {
      "text/plain": [
       "dtype('<M8[ns]')"
      ]
     },
     "execution_count": 37,
     "metadata": {},
     "output_type": "execute_result"
    }
   ],
   "source": [
    "h2['date'].dtypes"
   ]
  },
  {
   "cell_type": "code",
   "execution_count": 38,
   "metadata": {},
   "outputs": [
    {
     "data": {
      "text/plain": [
       "0   2017-01-01\n",
       "1   2017-01-02\n",
       "2   2017-01-03\n",
       "3   2017-01-04\n",
       "Name: date, dtype: datetime64[ns]"
      ]
     },
     "execution_count": 38,
     "metadata": {},
     "output_type": "execute_result"
    }
   ],
   "source": [
    "h3 = pd.DataFrame({\n",
    "    \"date\":pd.date_range(\"2017-01-01\",periods=4),\n",
    "    \"price\":[1,2,3,4]\n",
    "})\n",
    "h3['date']"
   ]
  },
  {
   "cell_type": "code",
   "execution_count": 47,
   "metadata": {},
   "outputs": [
    {
     "data": {
      "text/plain": [
       "'2017-01-01'"
      ]
     },
     "execution_count": 47,
     "metadata": {},
     "output_type": "execute_result"
    }
   ],
   "source": [
    "h3.loc[0,'date'].strftime(\"%Y-%m-%d\")"
   ]
  },
  {
   "cell_type": "code",
   "execution_count": 39,
   "metadata": {},
   "outputs": [
    {
     "data": {
      "text/plain": [
       "Timestamp('2017-01-01 00:00:00')"
      ]
     },
     "execution_count": 39,
     "metadata": {},
     "output_type": "execute_result"
    }
   ],
   "source": [
    "h3.loc[0,'date']"
   ]
  },
  {
   "cell_type": "code",
   "execution_count": 40,
   "metadata": {},
   "outputs": [
    {
     "data": {
      "text/plain": [
       "0   2017-01-01\n",
       "1   2017-01-02\n",
       "2   2017-01-03\n",
       "3   2017-01-04\n",
       "Name: date, dtype: datetime64[ns]"
      ]
     },
     "execution_count": 40,
     "metadata": {},
     "output_type": "execute_result"
    }
   ],
   "source": [
    "h4 = pd.DataFrame({\n",
    "    \"date\":[datetime.datetime(2017,1,1),\n",
    "            datetime.datetime(2017,1,2),datetime.datetime(2017,1,3),datetime.datetime(2017,1,4)],\n",
    "    \"price\":[1,2,3,4]\n",
    "})\n",
    "h4['date']"
   ]
  },
  {
   "cell_type": "code",
   "execution_count": 41,
   "metadata": {},
   "outputs": [
    {
     "data": {
      "text/plain": [
       "Timestamp('2017-01-01 00:00:00')"
      ]
     },
     "execution_count": 41,
     "metadata": {},
     "output_type": "execute_result"
    }
   ],
   "source": [
    "h4.loc[0,'date']"
   ]
  },
  {
   "cell_type": "code",
   "execution_count": 44,
   "metadata": {
    "collapsed": true
   },
   "outputs": [
    {
     "data": {
      "text/plain": [
       "0     2015-08-24\n",
       "1     2015-09-28\n",
       "2     2015-10-07\n",
       "3     2015-10-09\n",
       "4     2015-11-02\n",
       "5     2015-11-03\n",
       "6     2015-11-06\n",
       "7     2015-11-07\n",
       "8     2015-11-10\n",
       "9     2015-11-11\n",
       "10    2015-11-12\n",
       "11    2015-11-27\n",
       "12    2015-11-30\n",
       "13    2015-12-05\n",
       "14    2015-12-06\n",
       "15    2015-12-08\n",
       "16    2015-12-21\n",
       "17    2015-12-22\n",
       "18    2015-12-22\n",
       "19    2015-12-23\n",
       "20    2015-12-24\n",
       "21    2015-12-25\n",
       "22    2015-12-26\n",
       "23    2015-12-31\n",
       "24    2016-01-01\n",
       "25    2016-02-08\n",
       "26    2016-02-09\n",
       "27    2016-03-02\n",
       "28    2016-03-25\n",
       "29    2016-04-01\n",
       "         ...    \n",
       "161   2016-08-23\n",
       "162   2016-09-27\n",
       "163   2016-10-06\n",
       "164   2016-10-08\n",
       "165   2016-11-01\n",
       "166   2016-11-05\n",
       "167   2016-11-09\n",
       "168   2016-11-24\n",
       "169   2016-11-27\n",
       "170   2016-12-04\n",
       "171   2016-12-07\n",
       "172   2016-12-20\n",
       "173   2016-12-30\n",
       "174   2017-01-01\n",
       "175   2017-02-26\n",
       "176   2017-03-01\n",
       "177   2017-03-31\n",
       "178   2017-04-12\n",
       "179   2017-04-20\n",
       "180   2017-04-30\n",
       "181   2017-05-11\n",
       "182   2017-05-25\n",
       "183   2017-06-22\n",
       "184   2017-06-24\n",
       "185   2017-07-02\n",
       "186   2017-07-22\n",
       "187   2017-08-04\n",
       "188   2017-08-10\n",
       "189   2017-08-14\n",
       "190   2017-08-23\n",
       "Name: date, Length: 191, dtype: datetime64[ns]"
      ]
     },
     "execution_count": 44,
     "metadata": {},
     "output_type": "execute_result"
    }
   ],
   "source": [
    "h1['date'] = h1['date'].apply(\n",
    "        lambda x : datetime.datetime.strptime(x,\"%Y-%m-%d\"))\n",
    "h1['date']"
   ]
  },
  {
   "cell_type": "code",
   "execution_count": 46,
   "metadata": {},
   "outputs": [
    {
     "data": {
      "text/plain": [
       "Timestamp('2015-08-24 00:00:00')"
      ]
     },
     "execution_count": 46,
     "metadata": {},
     "output_type": "execute_result"
    }
   ],
   "source": [
    "h1.loc[0,'date']"
   ]
  },
  {
   "cell_type": "code",
   "execution_count": null,
   "metadata": {
    "collapsed": true
   },
   "outputs": [],
   "source": []
  }
 ],
 "metadata": {
  "kernelspec": {
   "display_name": "Python 3",
   "language": "python",
   "name": "python3"
  },
  "language_info": {
   "codemirror_mode": {
    "name": "ipython",
    "version": 3
   },
   "file_extension": ".py",
   "mimetype": "text/x-python",
   "name": "python",
   "nbconvert_exporter": "python",
   "pygments_lexer": "ipython3",
   "version": "3.6.1"
  }
 },
 "nbformat": 4,
 "nbformat_minor": 2
}
