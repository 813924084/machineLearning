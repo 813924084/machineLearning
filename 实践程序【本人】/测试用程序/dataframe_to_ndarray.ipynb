{
 "cells": [
  {
   "cell_type": "markdown",
   "metadata": {},
   "source": [
    "# 1"
   ]
  },
  {
   "cell_type": "code",
   "execution_count": 18,
   "metadata": {
    "collapsed": false
   },
   "outputs": [
    {
     "name": "stdout",
     "output_type": "stream",
     "text": [
      "one      [2000, abc, 1.5]\n",
      "two      [2001, abc, 1.7]\n",
      "three    [2002, abc, 3.6]\n",
      "four     [2003, def, 5.1]\n",
      "five     [2004, def, 6.4]\n",
      "dtype: object\n",
      "-----------------\n",
      "       year state  pop\n",
      "one    2000   abc  1.5\n",
      "two    2001   abc  1.7\n",
      "three  2002   abc  3.6\n",
      "four   2003   def  5.1\n",
      "five   2004   def  6.4\n",
      "-----------------\n"
     ]
    }
   ],
   "source": [
    "import pandas as pd\n",
    "import numpy as np\n",
    "\n",
    "data = [[2000,'abc',1.5],\n",
    "       [2001,'abc',1.7],\n",
    "       [2002,'abc',3.6],\n",
    "       [2003,'def',5.1],\n",
    "       [2004,'def',6.4]]\n",
    "ser = pd.Series(data,index=['one','two','three','four','five'])\n",
    "print(ser)\n",
    "print('-----------------')\n",
    "df = pd.DataFrame(data,index=['one','two','three','four','five'],columns=['year','state','pop'])\n",
    "print(df)\n",
    "print('-----------------')"
   ]
  },
  {
   "cell_type": "code",
   "execution_count": 19,
   "metadata": {
    "collapsed": false
   },
   "outputs": [
    {
     "name": "stdout",
     "output_type": "stream",
     "text": [
      "[[2000, 'abc', 1.5] [2001, 'abc', 1.7] [2002, 'abc', 3.6]\n",
      " [2003, 'def', 5.1] [2004, 'def', 6.4]]\n",
      "-----------------\n",
      "[[2000 'abc' 1.5]\n",
      " [2001 'abc' 1.7]\n",
      " [2002 'abc' 3.6]\n",
      " [2003 'def' 5.1]\n",
      " [2004 'def' 6.4]]\n",
      "-----------------\n"
     ]
    }
   ],
   "source": [
    "foo1 = ser.as_matrix()\n",
    "print(foo1)\n",
    "print('-----------------')\n",
    "foo2 = df.as_matrix()\n",
    "print(foo2)\n",
    "print('-----------------')"
   ]
  },
  {
   "cell_type": "code",
   "execution_count": 20,
   "metadata": {
    "collapsed": false
   },
   "outputs": [
    {
     "name": "stdout",
     "output_type": "stream",
     "text": [
      "[[2000 'abc' 1.5]\n",
      " [2001 'abc' 1.7]\n",
      " [2002 'abc' 3.6]\n",
      " [2003 'def' 5.1]\n",
      " [2004 'def' 6.4]]\n",
      "-----------------\n",
      "[[2000 'abc' 1.5]\n",
      " [2001 'abc' 1.7]\n",
      " [2002 'abc' 3.6]\n",
      " [2003 'def' 5.1]\n",
      " [2004 'def' 6.4]]\n",
      "-----------------\n"
     ]
    }
   ],
   "source": [
    "foo3 = df.values\n",
    "print(foo3)\n",
    "print('-----------------')\n",
    "foo4 = np.array(df)\n",
    "print(foo4)\n",
    "print('-----------------')"
   ]
  },
  {
   "cell_type": "code",
   "execution_count": 21,
   "metadata": {
    "collapsed": false
   },
   "outputs": [
    {
     "name": "stdout",
     "output_type": "stream",
     "text": [
      "[[ 1.5]\n",
      " [ 1.7]\n",
      " [ 3.6]\n",
      " [ 5.1]\n",
      " [ 6.4]]\n"
     ]
    }
   ],
   "source": [
    "foo5 = df.as_matrix(['pop'])\n",
    "print(foo5)"
   ]
  },
  {
   "cell_type": "markdown",
   "metadata": {},
   "source": [
    "# 2"
   ]
  },
  {
   "cell_type": "code",
   "execution_count": 22,
   "metadata": {
    "collapsed": false
   },
   "outputs": [
    {
     "name": "stdout",
     "output_type": "stream",
     "text": [
      "       year state  pop\n",
      "one    2000   abc  1.5\n",
      "two    2001   abc  1.7\n",
      "three  2002   abc  3.6\n",
      "four   2003   def  5.1\n",
      "five   2004   def  6.4\n",
      "----------------\n"
     ]
    }
   ],
   "source": [
    "data2 = np.array(data)\n",
    "df2 = pd.DataFrame(data2,index=['one','two','three','four','five'],columns=['year','state','pop'])\n",
    "print(df2)\n",
    "print('----------------')"
   ]
  },
  {
   "cell_type": "code",
   "execution_count": 23,
   "metadata": {
    "collapsed": false
   },
   "outputs": [
    {
     "name": "stdout",
     "output_type": "stream",
     "text": [
      "[['2000' 'abc' '1.5']\n",
      " ['2001' 'abc' '1.7']\n",
      " ['2002' 'abc' '3.6']\n",
      " ['2003' 'def' '5.1']\n",
      " ['2004' 'def' '6.4']]\n",
      "----------------\n",
      "[['2000' 'abc' '1.5']\n",
      " ['2001' 'abc' '1.7']\n",
      " ['2002' 'abc' '3.6']\n",
      " ['2003' 'def' '5.1']\n",
      " ['2004' 'def' '6.4']]\n",
      "----------------\n",
      "[['2000' 'abc' '1.5']\n",
      " ['2001' 'abc' '1.7']\n",
      " ['2002' 'abc' '3.6']\n",
      " ['2003' 'def' '5.1']\n",
      " ['2004' 'def' '6.4']]\n",
      "----------------\n"
     ]
    }
   ],
   "source": [
    "foo6 = df2.as_matrix()\n",
    "foo7 = df2.values\n",
    "foo8 = np.array(df2)\n",
    "print (foo6)\n",
    "print('----------------')\n",
    "print(foo7)\n",
    "print('----------------')\n",
    "print(foo8)\n",
    "print('----------------')"
   ]
  },
  {
   "cell_type": "code",
   "execution_count": 24,
   "metadata": {
    "collapsed": false
   },
   "outputs": [
    {
     "name": "stdout",
     "output_type": "stream",
     "text": [
      "[['1.5']\n",
      " ['1.7']\n",
      " ['3.6']\n",
      " ['5.1']\n",
      " ['6.4']]\n"
     ]
    }
   ],
   "source": [
    "foo9 = df2.as_matrix(['pop'])\n",
    "print(foo9)"
   ]
  },
  {
   "cell_type": "markdown",
   "metadata": {},
   "source": [
    "# 3"
   ]
  },
  {
   "cell_type": "code",
   "execution_count": 25,
   "metadata": {
    "collapsed": false
   },
   "outputs": [
    {
     "name": "stdout",
     "output_type": "stream",
     "text": [
      "pop           [1.5, 1.7, 3.6, 5.1, 6.4]\n",
      "state         [abc, abc, abc, def, def]\n",
      "year     [2000, 2001, 2002, 2003, 2004]\n",
      "dtype: object\n",
      "----------------\n",
      "   pop state  year\n",
      "0  1.5   abc  2000\n",
      "1  1.7   abc  2001\n",
      "2  3.6   abc  2002\n",
      "3  5.1   def  2003\n",
      "4  6.4   def  2004\n",
      "----------------\n"
     ]
    }
   ],
   "source": [
    "data = {'state':['abc','abc','abc','def','def'],\n",
    "        'year':[2000,2001,2002,2003,2004],\n",
    "        'pop':[1.5,1.7,3.6,5.1,6.4]}\n",
    "ser = pd.Series(data)\n",
    "print(ser)\n",
    "print('----------------')\n",
    "df = pd.DataFrame(data)\n",
    "print(df)\n",
    "print('----------------')"
   ]
  },
  {
   "cell_type": "code",
   "execution_count": 26,
   "metadata": {
    "collapsed": false
   },
   "outputs": [
    {
     "name": "stdout",
     "output_type": "stream",
     "text": [
      "[[1.5, 1.7, 3.6, 5.1, 6.4] ['abc', 'abc', 'abc', 'def', 'def']\n",
      " [2000, 2001, 2002, 2003, 2004]]\n"
     ]
    }
   ],
   "source": [
    "foo10 = ser.as_matrix()\n",
    "print(foo10)"
   ]
  },
  {
   "cell_type": "code",
   "execution_count": 27,
   "metadata": {
    "collapsed": false
   },
   "outputs": [
    {
     "name": "stdout",
     "output_type": "stream",
     "text": [
      "[[1.5 'abc' 2000]\n",
      " [1.7 'abc' 2001]\n",
      " [3.6 'abc' 2002]\n",
      " [5.1 'def' 2003]\n",
      " [6.4 'def' 2004]]\n",
      "----------------\n",
      "[[1.5 'abc' 2000]\n",
      " [1.7 'abc' 2001]\n",
      " [3.6 'abc' 2002]\n",
      " [5.1 'def' 2003]\n",
      " [6.4 'def' 2004]]\n",
      "----------------\n",
      "[[1.5 'abc' 2000]\n",
      " [1.7 'abc' 2001]\n",
      " [3.6 'abc' 2002]\n",
      " [5.1 'def' 2003]\n",
      " [6.4 'def' 2004]]\n",
      "----------------\n"
     ]
    }
   ],
   "source": [
    "foo11 = df.as_matrix()\n",
    "foo12 = df.values\n",
    "foo13 = np.array(df)\n",
    "print(foo11)\n",
    "print('----------------')\n",
    "print(foo12)\n",
    "print('----------------')\n",
    "print(foo13)\n",
    "print('----------------')"
   ]
  },
  {
   "cell_type": "code",
   "execution_count": 28,
   "metadata": {
    "collapsed": false
   },
   "outputs": [
    {
     "name": "stdout",
     "output_type": "stream",
     "text": [
      "[[ 1.5]\n",
      " [ 1.7]\n",
      " [ 3.6]\n",
      " [ 5.1]\n",
      " [ 6.4]]\n"
     ]
    }
   ],
   "source": [
    "foo14 = df.as_matrix(['pop'])\n",
    "print(foo14)"
   ]
  }
 ],
 "metadata": {
  "kernelspec": {
   "display_name": "Python 3",
   "language": "python",
   "name": "python3"
  },
  "language_info": {
   "codemirror_mode": {
    "name": "ipython",
    "version": 3
   },
   "file_extension": ".py",
   "mimetype": "text/x-python",
   "name": "python",
   "nbconvert_exporter": "python",
   "pygments_lexer": "ipython3",
   "version": "3.6.0"
  }
 },
 "nbformat": 4,
 "nbformat_minor": 2
}
