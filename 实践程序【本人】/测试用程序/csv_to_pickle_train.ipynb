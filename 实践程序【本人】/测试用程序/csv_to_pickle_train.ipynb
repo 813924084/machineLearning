{
 "cells": [
  {
   "cell_type": "code",
   "execution_count": 6,
   "metadata": {
    "collapsed": true
   },
   "outputs": [],
   "source": [
    "import numpy as np\n",
    "import pandas as pd\n",
    "import time"
   ]
  },
  {
   "cell_type": "code",
   "execution_count": 7,
   "metadata": {},
   "outputs": [
    {
     "name": "stderr",
     "output_type": "stream",
     "text": [
      "E:\\Anaconda\\lib\\site-packages\\IPython\\core\\interactiveshell.py:2728: DtypeWarning: Columns (5) have mixed types. Specify dtype option on import or set low_memory=False.\n",
      "  interactivity=interactivity, compiler=compiler, result=result)\n"
     ]
    },
    {
     "name": "stdout",
     "output_type": "stream",
     "text": [
      "pd.read_csv:126.1875\n"
     ]
    }
   ],
   "source": [
    "t1 = time.process_time()\n",
    "train = pd.read_csv(\"E:/kaggle-data/train.csv\")\n",
    "t2 = time.process_time()\n",
    "print(\"pd.read_csv:\"+ str(t2-t1))"
   ]
  },
  {
   "cell_type": "code",
   "execution_count": 8,
   "metadata": {},
   "outputs": [
    {
     "name": "stdout",
     "output_type": "stream",
     "text": [
      "pd.to_pickle:43.15625\n"
     ]
    }
   ],
   "source": [
    "t3 = time.process_time()\n",
    "train.to_pickle(\"E:/kaggle-data/train\")\n",
    "t4 = time.process_time()\n",
    "print(\"pd.to_pickle:\"+ str(t4-t3))"
   ]
  },
  {
   "cell_type": "code",
   "execution_count": 9,
   "metadata": {},
   "outputs": [
    {
     "name": "stdout",
     "output_type": "stream",
     "text": [
      "pd.read_pickle:20.28125\n"
     ]
    }
   ],
   "source": [
    "t5 = time.process_time()\n",
    "train2 = pd.read_pickle(\"E:/kaggle-data/train\")\n",
    "t6 = time.process_time()\n",
    "print(\"pd.read_pickle:\"+ str(t6-t5))"
   ]
  },
  {
   "cell_type": "code",
   "execution_count": null,
   "metadata": {
    "collapsed": true
   },
   "outputs": [],
   "source": []
  }
 ],
 "metadata": {
  "kernelspec": {
   "display_name": "Python 3",
   "language": "python",
   "name": "python3"
  },
  "language_info": {
   "codemirror_mode": {
    "name": "ipython",
    "version": 3
   },
   "file_extension": ".py",
   "mimetype": "text/x-python",
   "name": "python",
   "nbconvert_exporter": "python",
   "pygments_lexer": "ipython3",
   "version": "3.6.1"
  }
 },
 "nbformat": 4,
 "nbformat_minor": 2
}
