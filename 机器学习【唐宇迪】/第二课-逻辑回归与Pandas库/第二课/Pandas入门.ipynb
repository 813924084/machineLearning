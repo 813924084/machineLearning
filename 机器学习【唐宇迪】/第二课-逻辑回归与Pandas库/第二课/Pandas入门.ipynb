{
 "cells": [
  {
   "cell_type": "code",
   "execution_count": 9,
   "metadata": {
    "collapsed": false
   },
   "outputs": [
    {
     "name": "stdout",
     "output_type": "stream",
     "text": [
      "1\n",
      "key      [a, b, c]\n",
      "value    [1, 2, 3]\n",
      "dtype: object\n",
      "a    1.0\n",
      "b    2.0\n",
      "c    3.0\n",
      "d    NaN\n",
      "dtype: float64\n",
      "a    False\n",
      "b    False\n",
      "c    False\n",
      "d     True\n",
      "dtype: bool\n",
      "a    11.0\n",
      "b    22.0\n",
      "c    33.0\n",
      "d     NaN\n",
      "e     NaN\n",
      "dtype: float64\n"
     ]
    }
   ],
   "source": [
    "import numpy as np\n",
    "import pandas as pd\n",
    "from pandas import Series,DataFrame\n",
    "\n",
    "#Series可以设置index，有点像字典，用index索引\n",
    "obj = Series([1,2,3],index=['a','b','c'])\n",
    "print (obj['a'])\n",
    "#也就是说，可以用字典直接创建Series\n",
    "\n",
    "dic = dict(key = ['a','b','c'],value = [1,2,3])\n",
    "dic = Series(dic)\n",
    "#下面注意可以利用一个字符串更新键值\n",
    "key1 = ['a','b','c','d']\n",
    "#注意下面的语句可以将 Series 对象中的值提取出来，不过要知道的字典是不能这么做提取的\n",
    "dic1 = Series(obj,index = key1)\n",
    "print (dic)\n",
    "print (dic1)\n",
    "#isnull 和  notnull 是用来检测缺失数据\n",
    "print (pd.isnull(dic1))\n",
    "#Series很重要的功能就是按照键值自动对齐功能\n",
    "dic2 = Series([10,20,30,40],index = ['a','b','c','e'])\n",
    "print (dic1 + dic2)\n",
    "#name属性,可以起名字\n",
    "dic1.name = 's1'\n",
    "dic1.index.name = 'key1'\n",
    "#Series 的索引可以就地修改\n",
    "dic1.index = ['x','y','z','w']"
   ]
  },
  {
   "cell_type": "code",
   "execution_count": 11,
   "metadata": {
    "collapsed": false
   },
   "outputs": [
    {
     "name": "stdout",
     "output_type": "stream",
     "text": [
      "   a  b  c\n",
      "0  1  7  4\n",
      "1  2  8  5\n",
      "2  3  9  6\n",
      "   a  c  b\n",
      "0  1  4  7\n",
      "1  2  5  8\n",
      "2  3  6  9\n",
      "       a  b  c    d\n",
      "one    1  7  4  NaN\n",
      "two    2  8  5  NaN\n",
      "three  3  9  6  NaN\n",
      "0    1\n",
      "1    2\n",
      "2    3\n",
      "Name: a, dtype: int64\n",
      "0    7\n",
      "1    8\n",
      "2    9\n",
      "Name: b, dtype: int64\n",
      "a      2\n",
      "b      8\n",
      "c      5\n",
      "d    NaN\n",
      "Name: two, dtype: object\n",
      "       a  b  c    d\n",
      "one    1  7  4  200\n",
      "two    2  8  5  100\n",
      "three  3  9  6  300\n"
     ]
    }
   ],
   "source": [
    "import numpy as np\n",
    "import pandas as pd\n",
    "from pandas import Series,DataFrame\n",
    "\n",
    "#构建DataFrame可以直接传入等长的列表或Series组成的字典\n",
    "#不等长会产生错误\n",
    "data = {'a':[1,2,3],\n",
    "        'c':[4,5,6],\n",
    "        'b':[7,8,9]\n",
    "}\n",
    "#注意是按照列的名字进行列排序\n",
    "frame = DataFrame(data)\n",
    "print (frame)\n",
    "#指定列之后就会按照指定的进行排序\n",
    "frame = DataFrame(data,columns=['a','c','b'])\n",
    "print (frame)\n",
    "#可以有空列,index是说行名\n",
    "frame1 = DataFrame(data,columns = ['a','b','c','d'],index = ['one','two','three'])\n",
    "print (frame1)\n",
    "#用字典方式取列数据\n",
    "print (frame['a'])\n",
    "print (frame.b)\n",
    "#列数据的修改直接选出来重新赋值即可\n",
    "#行，可以用行名或者行数来进行选取\n",
    "print (frame1.ix['two'])\n",
    "#为列赋值，如果是Series，规定了index后可以精确赋值\n",
    "frame1['d'] = Series([100,200,300],index = ['two','one','three'])\n",
    "print (frame1)\n",
    "#删除列用del 函数\n",
    "del frame1['d']\n",
    "#警告：通过列名选出来的是Series的视图，并不是副本，可用Series copy方法得到副本"
   ]
  },
  {
   "cell_type": "code",
   "execution_count": 12,
   "metadata": {
    "collapsed": false
   },
   "outputs": [
    {
     "name": "stdout",
     "output_type": "stream",
     "text": [
      "      Nevada  Ohio\n",
      "2000     NaN   1.5\n",
      "2001     2.4   1.7\n",
      "2002     2.9   3.6\n",
      "state  Nevada  Ohio\n",
      "year               \n",
      "2000      NaN   1.5\n",
      "2001      2.4   1.7\n",
      "2002      2.9   3.6\n",
      "[[ nan  1.5]\n",
      " [ 2.4  1.7]\n",
      " [ 2.9  3.6]]\n"
     ]
    }
   ],
   "source": [
    "#内层字典的键值会被合并、排序以形成最终的索引\n",
    "pop = {'Nevada':{2001:2.4,2002:2.9},\n",
    "       'Ohio':{2000:1.5,2001:1.7,2002:3.6}}\n",
    "frame3 = DataFrame(pop)\n",
    "print (frame3)\n",
    "#Dataframe也有行和列有name属性，DataFrame有value属性\n",
    "frame3.index.name = 'year'\n",
    "frame3.columns.name = 'state'\n",
    "print (frame3)\n",
    "print (frame3.values)"
   ]
  },
  {
   "cell_type": "code",
   "execution_count": 13,
   "metadata": {
    "collapsed": false
   },
   "outputs": [
    {
     "name": "stdout",
     "output_type": "stream",
     "text": [
      "Index(['a', 'b', 'c'], dtype='object')\n",
      "True\n",
      "True\n",
      "False\n"
     ]
    }
   ],
   "source": [
    "#pandas索引对象负责管理轴标签和其他元数据，构建Series和DataFrame时，所用到的任何数组或其他序列的标签都被转换为Index\n",
    "obj = Series(range(3),index = ['a','b','c'])\n",
    "index = obj.index\n",
    "print (index)\n",
    "#索引对象是无法修改的,这非常重要，因为这样才会使得Index对象在多个数据结构之间安全共享\n",
    "index1 = pd.Index(np.arange(3))\n",
    "obj2 = Series([1.5,-2.5,0],index = index1)\n",
    "print (obj2.index is index1)\n",
    "\n",
    "#除了长得像数组，Index的功能也类似一个固定大小的集合\n",
    "print ('Ohio' in frame3.columns)\n",
    "print (2003 in frame3.index)"
   ]
  },
  {
   "cell_type": "code",
   "execution_count": null,
   "metadata": {
    "collapsed": true
   },
   "outputs": [],
   "source": []
  }
 ],
 "metadata": {
  "kernelspec": {
   "display_name": "Python 3",
   "language": "python",
   "name": "python3"
  },
  "language_info": {
   "codemirror_mode": {
    "name": "ipython",
    "version": 3
   },
   "file_extension": ".py",
   "mimetype": "text/x-python",
   "name": "python",
   "nbconvert_exporter": "python",
   "pygments_lexer": "ipython3",
   "version": "3.6.0"
  }
 },
 "nbformat": 4,
 "nbformat_minor": 2
}
